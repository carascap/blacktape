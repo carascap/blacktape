{
 "cells": [
  {
   "cell_type": "code",
   "execution_count": 1,
   "id": "27e4d481-dedb-49d2-aff3-bc47ad14ab56",
   "metadata": {},
   "outputs": [],
   "source": [
    "import csv\n",
    "import re\n",
    "from collections import defaultdict\n",
    "from pathlib import Path"
   ]
  },
  {
   "cell_type": "markdown",
   "id": "6a5c07d8-1937-42fb-806a-ed5bce827e45",
   "metadata": {},
   "source": [
    "### Patterns"
   ]
  },
  {
   "cell_type": "markdown",
   "id": "b7eb311e-8e9e-4bbf-b6b5-e903daf31bb8",
   "metadata": {},
   "source": [
    "#### Credit Card Number"
   ]
  },
  {
   "cell_type": "code",
   "execution_count": 2,
   "id": "dee8f53b-e02e-4247-985f-1607bf69fa19",
   "metadata": {},
   "outputs": [],
   "source": [
    "# Modified from https://www.regular-expressions.info/creditcard.html\n",
    "ccn = r\"\"\"\n",
    "^(?:4[0-9]{12}(?:[0-9]{3})?          # Visa\n",
    " |  ^5[0-5][0-9]{14}$                # MasterCard\n",
    " |  3[47][0-9]{13}                   # American Express\n",
    " |  3(?:0[0-5]|[68][0-9])[0-9]{11}   # Diners Club\n",
    " |  6(?:011|5[0-9]{2})[0-9]{12}      # Discover\n",
    " |  (?:2131|1800|35\\d{3})\\d{11}      # JCB\n",
    ")$\n",
    "\"\"\"\n",
    "\n",
    "ccn = re.compile(ccn, re.X)"
   ]
  },
  {
   "cell_type": "markdown",
   "id": "bbcf9e5a-4bb0-4919-9add-d7b4beeff424",
   "metadata": {},
   "source": [
    "#### Social Security Number"
   ]
  },
  {
   "cell_type": "code",
   "execution_count": 3,
   "id": "d48b5330-64f0-4a12-a136-98ca5adbb0ae",
   "metadata": {},
   "outputs": [],
   "source": [
    "ssn = r\"^(?!(000|666|9))\\d{3}-(?!00)\\d{2}-(?!0000)\\d{4}$|^(?!(000|666|9))\\d{3}(?!00)\\d{2}(?!0000)\\d{4}$\""
   ]
  },
  {
   "cell_type": "markdown",
   "id": "09cc3138-97b8-474e-bb0a-de7d0a861648",
   "metadata": {},
   "source": [
    "#### Email Address"
   ]
  },
  {
   "cell_type": "code",
   "execution_count": 4,
   "id": "93e87c27-8568-4c33-a1d7-d75b2e9ba3e1",
   "metadata": {},
   "outputs": [],
   "source": [
    "email = r\"(^[a-zA-Z0-9_.+-]+@[a-zA-Z0-9-]+\\.[a-zA-Z0-9-.]+$)\""
   ]
  },
  {
   "cell_type": "markdown",
   "id": "84a130b4-50fa-49aa-af92-0a3683f63ad7",
   "metadata": {},
   "source": [
    "#### IP Address"
   ]
  },
  {
   "cell_type": "code",
   "execution_count": 5,
   "id": "3bd8e85a-0b29-4354-9861-bcd1e71bfa32",
   "metadata": {},
   "outputs": [],
   "source": [
    "ipv4 = r\"^(?:[0-9]{1,3}\\.){3}[0-9]{1,3}$\""
   ]
  },
  {
   "cell_type": "markdown",
   "id": "90777bcc-6760-41d9-98f9-e96733523268",
   "metadata": {},
   "source": [
    "### Mock PII Sample"
   ]
  },
  {
   "cell_type": "code",
   "execution_count": 6,
   "id": "50dbb8c8-b433-47ac-8e90-cfbbf83c5d9d",
   "metadata": {},
   "outputs": [],
   "source": [
    "pii_file = Path('../tests/data/mock_pii.csv')"
   ]
  },
  {
   "cell_type": "code",
   "execution_count": 7,
   "id": "b00c1eb6-1f2a-4245-a447-0726f135dfab",
   "metadata": {},
   "outputs": [
    {
     "name": "stdout",
     "output_type": "stream",
     "text": [
      "first_name,last_name,email,ssn,ccn,ipv4\n",
      "Gaven,Withnall,gwithnall0@spotify.com,231-31-8375,5048370929250009,0.119.63.89\n",
      "Hermie,Giorgio,hgiorgio1@domainmarket.com,651-11-9512,5108753996251538,227.30.154.229\n",
      "Miller,Maytum,mmaytum2@about.me,266-56-5007,5108751515114302,230.142.200.232\n",
      "Effie,O'Regan,eoregan3@123-reg.co.uk,133-87-3446,5048370400186615,130.41.186.30\n",
      "Starla,Linggood,slinggood4@merriam-webster.com,619-50-6491,5048370083353243,107.44.242.8\n",
      "Jeanelle,Warricker,jwarricker5@1und1.de,561-50-3535,5108756745083623,210.27.5.152\n",
      "Brandice,Gallihawk,bgallihawk6@scientificamerican.com,377-33-6286,5108759765086468,19.94.135.19\n",
      "Bradley,Stainland,bstainland7@skype.com,758-39-7295,5048374873244448,114.136.212.234\n",
      "Jakob,Breffit,jbreffit8@devhub.com,415-35-2679,5048376186247091,71.34.164.53\n",
      "Kendricks,Rohlfing,krohlfing9@globo.com,856-61-8322,5048371006435703,205.209.127.138\n",
      "Yuri,Side,ysidea@globo.com,769-39-6596,5108758076212508,79.123.251.11\n",
      "Pauly,Bottrill,pbottrillb@alibaba.com,288-81-8197,5048376067470721,69.242.175.214\n",
      "Corrianne,Mattke,cmattkec@reuters.com,695-61-4831,5108753019608482,2.138.134.103\n",
      "Daloris,Allden,dalldend@nifty.com,451-98-9631,5108755974940099,78.175.190.226\n",
      "Barri,McKea,bmckeae@discovery.com,405-90-4733,5108756276572739,73.154.125.207\n",
      "Jeremiah,Cristofori,jcristoforif@seattletimes.com,575-24-9729,5108757721403108,88.68.22.121\n",
      "Chrisy,Fairman,cfairmang@google.ca,288-64-7935,5048377419227447,127.195.57.155\n",
      "Nicoli,Dyers,ndyersh@constantcontact.com,668-98-3994,5108755106653792,68.213.68.158\n",
      "Godfrey,Verrechia,gverrechiai@wufoo.com,761-20-6925,5048378677649090,186.185.192.103\n",
      "Bernadene,Gaven,bgavenj@intel.com,719-11-9150,5108750015252265,2.12.234.143\n",
      "Salome,McTavy,smctavyk@posterous.com,628-82-3597,5108751811495975,242.138.100.137\n",
      "Ki,Steketee,ksteketeel@prlog.org,530-42-0738,5108758709097755,145.210.123.50\n",
      "Chic,Keaysell,ckeaysellm@meetup.com,798-60-5593,5048373459961193,103.158.113.43\n",
      "Sarene,Lucia,slucian@merriam-webster.com,602-17-3971,5108756326837934,204.46.220.228\n",
      "Rog,Batrick,rbatricko@ox.ac.uk,729-06-3468,5048373202337725,222.175.79.55\n",
      "Sib,Knewstubb,sknewstubbp@live.com,192-32-5698,5048379054346334,75.65.138.172\n",
      "Yetty,Tort,ytortq@tuttocitta.it,336-23-7691,5108758929050865,199.203.84.225\n",
      "Fax,Duhig,fduhigr@bloomberg.com,774-68-7842,5108750758967350,197.9.29.78\n",
      "Kelbee,Shyres,kshyress@i2i.jp,296-64-8665,5048371607031190,14.199.29.104\n",
      "Manny,Bryns,mbrynst@state.gov,811-73-1219,5108756671283213,117.200.189.133\n",
      "Dallas,Bahia,dbahiau@tamu.edu,367-55-0795,5108758706033340,21.220.54.249\n",
      "Esmaria,Reoch,ereochv@paypal.com,793-30-5132,5048374399929910,2.138.197.233\n",
      "Fanni,Crewther,fcrewtherw@prweb.com,837-52-9035,5048370555856467,144.217.76.192\n",
      "Alf,Cansdale,acansdalex@blinklist.com,231-83-5518,5108755657695796,151.204.169.30\n",
      "El,Riddler,eriddlery@ocn.ne.jp,322-82-6264,5108750247796642,194.105.51.164\n",
      "Ram,Von Salzberg,rvonsalzbergz@imdb.com,148-89-8743,5108757598228778,9.51.203.104\n",
      "Lorne,Riddles,lriddles10@wikispaces.com,310-63-1170,5048378615714600,216.150.101.10\n",
      "Guinna,Twiddell,gtwiddell11@nifty.com,635-86-7168,5048374576453767,232.125.185.50\n",
      "Terri-jo,Luxen,tluxen12@sohu.com,207-05-0887,5108751188498917,38.91.33.177\n",
      "Bernadette,Eisold,beisold13@archive.org,673-62-8330,5108755126981769,12.192.1.50\n",
      "Joyous,Lalevee,jlalevee14@wufoo.com,245-73-5127,5108759500866364,254.97.146.91\n",
      "Rubia,Penfold,rpenfold15@vimeo.com,179-33-6839,5048370069310019,49.202.180.49\n",
      "Demetris,McWard,dmcward16@51.la,722-74-6609,5108750869547992,73.68.40.127\n",
      "Nixie,Chawner,nchawner17@theatlantic.com,836-11-4176,5108756658547572,251.91.167.135\n",
      "Margalo,Tayler,mtayler18@noaa.gov,685-62-7919,5108757714947657,90.220.193.109\n",
      "Geoffrey,Yarmouth,gyarmouth19@blog.com,221-65-6661,5048374197035464,150.135.197.189\n",
      "Maximilianus,Yellowlea,myellowlea1a@state.gov,196-66-8239,5048379866834071,241.77.82.56\n",
      "Muffin,Whiteson,mwhiteson1b@webnode.com,580-28-9487,5048377719056538,184.1.30.162\n",
      "Mitchael,Pyne,mpyne1c@jimdo.com,892-22-4914,5048374206175707,13.228.3.200\n",
      "Lorelei,Downes,ldownes1d@amazonaws.com,233-01-2950,5108754839976687,84.85.105.20\n",
      "\n"
     ]
    }
   ],
   "source": [
    "# What's in the file?\n",
    "print(pii_file.read_text(encoding=\"utf-8\"))"
   ]
  },
  {
   "cell_type": "markdown",
   "id": "0993a205-3cab-45d5-afe6-9b1deef4b268",
   "metadata": {},
   "source": [
    "### Look for patterns in mock PII file"
   ]
  },
  {
   "cell_type": "code",
   "execution_count": 8,
   "id": "73ff5d33-2b2b-4b5b-8402-7f19b69ad9a0",
   "metadata": {},
   "outputs": [
    {
     "name": "stdout",
     "output_type": "stream",
     "text": [
      "email:\t50\n",
      "ssn:\t50\n",
      "ccn:\t50\n",
      "ipv4:\t50\n"
     ]
    }
   ],
   "source": [
    "from blacktape.lib import match_patterns_in_text\n",
    "\n",
    "# pattern-label pairs, with patterns being either strings or compiled regular expressions\n",
    "patterns = [\n",
    "    (ccn, \"ccn\"),\n",
    "    (ssn, \"ssn\"),\n",
    "    (email, \"email\"),\n",
    "    (ipv4, \"ipv4\"),\n",
    "]\n",
    "\n",
    "found = defaultdict(list)\n",
    "\n",
    "with pii_file.open(mode=\"r\") as f:\n",
    "    # For each line of CSV data\n",
    "    for person in csv.DictReader(f):\n",
    "\n",
    "        # For each CSV field\n",
    "        for key, value in person.items():\n",
    "\n",
    "            # For each match of our selected patterns\n",
    "            for match in match_patterns_in_text(value, patterns):\n",
    "\n",
    "                # Store match result in label-match mapping\n",
    "                found[match[\"label\"]].append(match)\n",
    "\n",
    "\n",
    "# Total match count by pattern\n",
    "for label, matches in found.items():\n",
    "    print(f\"{label}:\\t{len(matches)}\")"
   ]
  },
  {
   "cell_type": "code",
   "execution_count": null,
   "id": "529d1546-3fb9-49d9-a2e5-1b3bf573b7b2",
   "metadata": {},
   "outputs": [],
   "source": []
  }
 ],
 "metadata": {
  "kernelspec": {
   "display_name": "Python 3",
   "language": "python",
   "name": "python3"
  },
  "language_info": {
   "codemirror_mode": {
    "name": "ipython",
    "version": 3
   },
   "file_extension": ".py",
   "mimetype": "text/x-python",
   "name": "python",
   "nbconvert_exporter": "python",
   "pygments_lexer": "ipython3",
   "version": "3.9.7"
  }
 },
 "nbformat": 4,
 "nbformat_minor": 5
}
