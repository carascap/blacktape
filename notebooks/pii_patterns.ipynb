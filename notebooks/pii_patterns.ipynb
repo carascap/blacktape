{
 "cells": [
  {
   "cell_type": "code",
   "execution_count": null,
   "id": "27e4d481-dedb-49d2-aff3-bc47ad14ab56",
   "metadata": {},
   "outputs": [],
   "source": [
    "import csv\n",
    "import re\n",
    "from collections import defaultdict\n",
    "from pathlib import Path"
   ]
  },
  {
   "cell_type": "markdown",
   "id": "6a5c07d8-1937-42fb-806a-ed5bce827e45",
   "metadata": {},
   "source": [
    "### Patterns"
   ]
  },
  {
   "cell_type": "markdown",
   "id": "b7eb311e-8e9e-4bbf-b6b5-e903daf31bb8",
   "metadata": {},
   "source": [
    "#### Credit Card Number"
   ]
  },
  {
   "cell_type": "code",
   "execution_count": null,
   "id": "dee8f53b-e02e-4247-985f-1607bf69fa19",
   "metadata": {},
   "outputs": [],
   "source": [
    "# Modified from https://www.regular-expressions.info/creditcard.html\n",
    "ccn = r\"\"\"\n",
    "^(?:4[0-9]{12}(?:[0-9]{3})?          # Visa\n",
    " |  ^5[0-5][0-9]{14}$                # MasterCard\n",
    " |  3[47][0-9]{13}                   # American Express\n",
    " |  3(?:0[0-5]|[68][0-9])[0-9]{11}   # Diners Club\n",
    " |  6(?:011|5[0-9]{2})[0-9]{12}      # Discover\n",
    " |  (?:2131|1800|35\\d{3})\\d{11}      # JCB\n",
    ")$\n",
    "\"\"\"\n",
    "\n",
    "ccn = re.compile(ccn, re.X)"
   ]
  },
  {
   "cell_type": "markdown",
   "id": "bbcf9e5a-4bb0-4919-9add-d7b4beeff424",
   "metadata": {},
   "source": [
    "#### Social Security Number"
   ]
  },
  {
   "cell_type": "code",
   "execution_count": null,
   "id": "d48b5330-64f0-4a12-a136-98ca5adbb0ae",
   "metadata": {},
   "outputs": [],
   "source": [
    "ssn = r\"^(?!(000|666|9))\\d{3}-(?!00)\\d{2}-(?!0000)\\d{4}$|^(?!(000|666|9))\\d{3}(?!00)\\d{2}(?!0000)\\d{4}$\""
   ]
  },
  {
   "cell_type": "markdown",
   "id": "09cc3138-97b8-474e-bb0a-de7d0a861648",
   "metadata": {},
   "source": [
    "#### Email Address"
   ]
  },
  {
   "cell_type": "code",
   "execution_count": null,
   "id": "93e87c27-8568-4c33-a1d7-d75b2e9ba3e1",
   "metadata": {},
   "outputs": [],
   "source": [
    "email = r\"(^[a-zA-Z0-9_.+-]+@[a-zA-Z0-9-]+\\.[a-zA-Z0-9-.]+$)\""
   ]
  },
  {
   "cell_type": "markdown",
   "id": "84a130b4-50fa-49aa-af92-0a3683f63ad7",
   "metadata": {},
   "source": [
    "#### IP Address"
   ]
  },
  {
   "cell_type": "code",
   "execution_count": null,
   "id": "3bd8e85a-0b29-4354-9861-bcd1e71bfa32",
   "metadata": {},
   "outputs": [],
   "source": [
    "ipv4 = r\"^(?:[0-9]{1,3}\\.){3}[0-9]{1,3}$\""
   ]
  },
  {
   "cell_type": "markdown",
   "id": "90777bcc-6760-41d9-98f9-e96733523268",
   "metadata": {},
   "source": [
    "### Mock PII Sample"
   ]
  },
  {
   "cell_type": "code",
   "execution_count": null,
   "id": "50dbb8c8-b433-47ac-8e90-cfbbf83c5d9d",
   "metadata": {},
   "outputs": [],
   "source": [
    "pii_file = Path('../tests/data/mock_pii.csv')"
   ]
  },
  {
   "cell_type": "code",
   "execution_count": null,
   "id": "b00c1eb6-1f2a-4245-a447-0726f135dfab",
   "metadata": {},
   "outputs": [],
   "source": [
    "# What's in the file?\n",
    "print(pii_file.read_text(encoding=\"utf-8\"))"
   ]
  },
  {
   "cell_type": "markdown",
   "id": "0993a205-3cab-45d5-afe6-9b1deef4b268",
   "metadata": {},
   "source": [
    "### Look for patterns in mock PII file"
   ]
  },
  {
   "cell_type": "code",
   "execution_count": null,
   "id": "73ff5d33-2b2b-4b5b-8402-7f19b69ad9a0",
   "metadata": {},
   "outputs": [],
   "source": [
    "from blacktape.lib import match_patterns_in_text\n",
    "\n",
    "# pattern-label pairs, with patterns being either strings or compiled regular expressions\n",
    "patterns = [\n",
    "    (ccn, \"ccn\"),\n",
    "    (ssn, \"ssn\"),\n",
    "    (email, \"email\"),\n",
    "    (ipv4, \"ipv4\"),\n",
    "]\n",
    "\n",
    "found = defaultdict(list)\n",
    "\n",
    "with pii_file.open(mode=\"r\") as f:\n",
    "    # For each line of CSV data\n",
    "    for person in csv.DictReader(f):\n",
    "\n",
    "        # For each CSV field\n",
    "        for key, value in person.items():\n",
    "\n",
    "            # For each match of our selected patterns\n",
    "            for match in match_patterns_in_text(value, patterns):\n",
    "\n",
    "                # Store match result in label-match mapping\n",
    "                found[match[\"label\"]].append(match)\n",
    "\n",
    "\n",
    "# Total match count by pattern\n",
    "for label, matches in found.items():\n",
    "    print(f\"{label}:\\t{len(matches)}\")"
   ]
  },
  {
   "cell_type": "code",
   "execution_count": null,
   "id": "529d1546-3fb9-49d9-a2e5-1b3bf573b7b2",
   "metadata": {},
   "outputs": [],
   "source": []
  }
 ],
 "metadata": {
  "kernelspec": {
   "display_name": "Python 3",
   "language": "python",
   "name": "python3"
  },
  "language_info": {
   "codemirror_mode": {
    "name": "ipython",
    "version": 3
   },
   "file_extension": ".py",
   "mimetype": "text/x-python",
   "name": "python",
   "nbconvert_exporter": "python",
   "pygments_lexer": "ipython3",
   "version": "3.9.7"
  }
 },
 "nbformat": 4,
 "nbformat_minor": 5
}
