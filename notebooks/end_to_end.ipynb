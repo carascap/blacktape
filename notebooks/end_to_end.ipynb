{
 "cells": [
  {
   "cell_type": "code",
   "execution_count": null,
   "id": "892c578e-2332-4031-8fce-6de8bf3b348b",
   "metadata": {},
   "outputs": [],
   "source": [
    "from datetime import datetime\n",
    "from pathlib import Path\n",
    "\n",
    "import spacy\n",
    "from spacy_model_manager.lib import get_installed_model_version\n",
    "from rich.console import Console\n",
    "\n",
    "from blacktape.db import db_init, db_session\n",
    "from blacktape.lib import chunks\n",
    "from blacktape.models import Match, FileReport\n",
    "from blacktape.pipeline import Pipeline\n",
    "from blacktape.util import record_workflow_config"
   ]
  },
  {
   "cell_type": "markdown",
   "id": "7c7b771f-bd40-4ccb-bfd6-ae7c61b67205",
   "metadata": {},
   "source": [
    "### Test Data"
   ]
  },
  {
   "cell_type": "code",
   "execution_count": null,
   "id": "fef9df86-c86e-46cf-92a1-f09c7fb8a9ce",
   "metadata": {},
   "outputs": [],
   "source": [
    "# test_file = Path(\"../tests/data/birds_and_bees.txt\")\n",
    "test_file = Path(\"../tests/data/newport_bermuda.txt\")\n",
    "\n",
    "# Make that an absolute path\n",
    "test_file = test_file.resolve()"
   ]
  },
  {
   "cell_type": "code",
   "execution_count": null,
   "id": "af66ae67-a560-45e5-9cf3-5a40a8ec49fb",
   "metadata": {},
   "outputs": [],
   "source": [
    "# Entity types we're interested in\n",
    "target_entities = {\"PERSON\", \"GPE\"}"
   ]
  },
  {
   "cell_type": "code",
   "execution_count": null,
   "id": "7f6c7e5e-0bf5-489b-8cd6-12e6b2457426",
   "metadata": {},
   "outputs": [],
   "source": [
    "# Trivial regular expressions\n",
    "patterns = [\n",
    "    (r\"[0-9]{4}\", \"4-digit number\"),\n",
    "    (r\"\\b[A-Z]{2,}\\b\", \"acronym\")\n",
    "]"
   ]
  },
  {
   "cell_type": "markdown",
   "id": "1a988bda-ef53-4013-b673-bc1cdcdbdee6",
   "metadata": {},
   "source": [
    "### Setup"
   ]
  },
  {
   "cell_type": "code",
   "execution_count": null,
   "id": "bcbd183d-97b0-45c9-ba8f-49eed79124f8",
   "metadata": {},
   "outputs": [],
   "source": [
    "console = Console()"
   ]
  },
  {
   "cell_type": "markdown",
   "id": "b4ee1e9a-9c19-420d-80be-46b4c1a37867",
   "metadata": {},
   "source": [
    "#### spaCy"
   ]
  },
  {
   "cell_type": "code",
   "execution_count": null,
   "id": "013994cd-da0c-4ee5-be2e-e2de4daf78da",
   "metadata": {},
   "outputs": [],
   "source": [
    "# Use spaCy model en_core_web_sm for both text chunking and entity extraction\n",
    "model = \"en_core_web_sm\""
   ]
  },
  {
   "cell_type": "code",
   "execution_count": null,
   "id": "c0e2ba10-0a07-43ab-ac79-b3fef7c9c17a",
   "metadata": {},
   "outputs": [],
   "source": [
    "# Make sure the model is installed\n",
    "!spacy-model install {model}"
   ]
  },
  {
   "cell_type": "code",
   "execution_count": null,
   "id": "5536ff38-2de9-4909-a22d-c34a43ba8da8",
   "metadata": {},
   "outputs": [],
   "source": [
    "# Load the model\n",
    "nlp = spacy.load(model, disable=[\"parser\"])\n",
    "nlp.enable_pipe(\"senter\")"
   ]
  },
  {
   "cell_type": "markdown",
   "id": "1d038228-5f70-4990-8e83-1a3e07602a9c",
   "metadata": {},
   "source": [
    "#### Text processing"
   ]
  },
  {
   "cell_type": "code",
   "execution_count": null,
   "id": "9f4319e1-fe86-4ac2-8af9-89b33a351b4d",
   "metadata": {},
   "outputs": [],
   "source": [
    "chunking_options = {\n",
    "    'nlp': nlp,\n",
    "    'max_chunk_size': 10_000, # Value in characters (not bytes) to stay below spaCy's max doc size of 1_000_000 characters by default\n",
    "}\n",
    "\n",
    "text_file_open_options = {\n",
    "    'encoding': \"UTF-8\",\n",
    "    'errors': \"ignore\",\n",
    "    'newline': '',  # To preserve line endings\n",
    "}"
   ]
  },
  {
   "cell_type": "markdown",
   "id": "dcb87c65-17e1-45ea-8cbf-02e02eed650a",
   "metadata": {},
   "source": [
    "#### DB output"
   ]
  },
  {
   "cell_type": "code",
   "execution_count": null,
   "id": "4bc743e5-b6a9-41ad-a9ea-93b423309067",
   "metadata": {},
   "outputs": [],
   "source": [
    "SQLITE3_FILENAME_TEMPLATE = \"{}_{}.sqlite3\"\n",
    "\n",
    "# Directory of sqlite3 files\n",
    "out_dir = Path.cwd() / \"results\"\n",
    "out_dir.mkdir(exist_ok=True)\n",
    "\n",
    "# DB file timestamped for this pipeline run\n",
    "db_file = out_dir / SQLITE3_FILENAME_TEMPLATE.format(\n",
    "    test_file.name,\n",
    "    datetime.now()\n",
    "    .isoformat(timespec=\"seconds\")\n",
    "    .translate(str.maketrans({\"-\": \"\", \":\": \"\"})),\n",
    ")\n",
    "\n",
    "# DB setup\n",
    "Session = db_init(db_file)"
   ]
  },
  {
   "cell_type": "markdown",
   "id": "0b5ad190-cf78-44f3-a10f-4f3d65c2b089",
   "metadata": {},
   "source": [
    "#### Redacting"
   ]
  },
  {
   "cell_type": "code",
   "execution_count": null,
   "id": "050ce7f4-c9fa-4b87-81b8-1b9afa1200a8",
   "metadata": {},
   "outputs": [],
   "source": [
    "redacted_block_char = \"\\u2588\"\n",
    "redacted_block_length = 8\n",
    "\n",
    "redacted_block = redacted_block_char * redacted_block_length"
   ]
  },
  {
   "cell_type": "markdown",
   "id": "4c466c4a-58ad-420e-8e89-e768d742febe",
   "metadata": {},
   "source": [
    "### Pipeline with DB session"
   ]
  },
  {
   "cell_type": "code",
   "execution_count": null,
   "id": "a8ff103e-5eb1-4b1b-b4a4-72e321c65055",
   "metadata": {},
   "outputs": [],
   "source": [
    "%%time\n",
    "\n",
    "with Pipeline(spacy_model=model) as pipeline, db_session(Session) as session:\n",
    "\n",
    "    # Record source file info\n",
    "    file_report = FileReport(path=str(test_file))\n",
    "    session.add(file_report)\n",
    "\n",
    "    # Record workflow parameters\n",
    "    record_workflow_config(\n",
    "        session,\n",
    "        source=str(test_file),\n",
    "        spacy_model=model,\n",
    "        spacy_model_version=get_installed_model_version(model),\n",
    "    )\n",
    "\n",
    "    # Submit jobs\n",
    "    with console.status(\"[bold green]Chunking file and submitting jobs...\") as status:\n",
    "\n",
    "        processed = 0  # Cumulative string length of previous chunks\n",
    "\n",
    "        for chunk in chunks(test_file, **chunking_options, **text_file_open_options):\n",
    "\n",
    "            # Submit a NER extraction job for this chunk\n",
    "            pipeline.submit_ner_job(chunk, target_entities, base_offset=processed, file=str(test_file))\n",
    "\n",
    "            # Submit regex matching jobs for this chunk\n",
    "            for pattern, label in patterns:\n",
    "                pipeline.submit_regex_job(chunk, pattern, label, base_offset=processed, file=str(test_file))\n",
    "\n",
    "            processed += len(chunk)\n",
    "\n",
    "    # Process job results as they become available\n",
    "    for result in pipeline.results():\n",
    "\n",
    "        for match in result:\n",
    "            # Resolve offset in document\n",
    "            match[\"offset\"] = match[\"offset\"] + match.pop(\"base_offset\")\n",
    "\n",
    "            # Make new Match object from result\n",
    "            session.add(Match(**match, file_report=file_report))"
   ]
  },
  {
   "cell_type": "markdown",
   "id": "4cab5c63-ece3-4859-8c62-dc9111ebc9e2",
   "metadata": {},
   "source": [
    "### Examine DB output"
   ]
  },
  {
   "cell_type": "markdown",
   "id": "1b991026-7df1-4a54-bc08-8b3538b1769f",
   "metadata": {},
   "source": [
    "#### Direct DB queries"
   ]
  },
  {
   "cell_type": "code",
   "execution_count": null,
   "id": "879627d9-c890-44fb-90be-89926f03268e",
   "metadata": {},
   "outputs": [],
   "source": [
    "# Match count\n",
    "!sqlite3 -box {db_file} \"select count(*) as match_count from match;\""
   ]
  },
  {
   "cell_type": "code",
   "execution_count": null,
   "id": "b73dfa69-f07e-4591-9340-37dffe083df3",
   "metadata": {},
   "outputs": [],
   "source": [
    "# All matches\n",
    "!sqlite3 -box {db_file} \"select * from match;\""
   ]
  },
  {
   "cell_type": "code",
   "execution_count": null,
   "id": "82efb40f-63ac-40ae-b4e9-0e8e172b7dcb",
   "metadata": {},
   "outputs": [],
   "source": [
    "# Workflow config\n",
    "!sqlite3 -box {db_file} \"select * from configuration;\""
   ]
  },
  {
   "cell_type": "code",
   "execution_count": null,
   "id": "924ebe8e-ecd2-44c8-b306-bfd4598766c2",
   "metadata": {},
   "outputs": [],
   "source": [
    "# Source file\n",
    "!sqlite3 -box {db_file} \"select * from file_report;\""
   ]
  },
  {
   "cell_type": "markdown",
   "id": "f25b95e4-2932-4803-8c8b-f32a33d178a3",
   "metadata": {},
   "source": [
    "#### ORM queries"
   ]
  },
  {
   "cell_type": "code",
   "execution_count": null,
   "id": "a6b75728-ca77-48e2-8549-fd6cd9dba682",
   "metadata": {},
   "outputs": [],
   "source": [
    "from dataclasses import dataclass\n",
    "\n",
    "from sqlalchemy import create_engine\n",
    "from sqlalchemy.orm import sessionmaker"
   ]
  },
  {
   "cell_type": "code",
   "execution_count": null,
   "id": "f37c0361-3d66-46a3-aeec-68e1a220c2c3",
   "metadata": {},
   "outputs": [],
   "source": [
    "@dataclass\n",
    "class Block:\n",
    "    start: int\n",
    "    end: int"
   ]
  },
  {
   "cell_type": "code",
   "execution_count": null,
   "id": "a67ce4f9-fdbc-4a47-91ed-0514ffa20c23",
   "metadata": {},
   "outputs": [],
   "source": [
    "engine = create_engine(f\"sqlite:///{db_file}\")\n",
    "session = sessionmaker(bind=engine)()"
   ]
  },
  {
   "cell_type": "code",
   "execution_count": null,
   "id": "5cc7f93e-c2fc-42d3-a99b-2170748d6684",
   "metadata": {},
   "outputs": [],
   "source": [
    "#  Blocks of text that will need redacting\n",
    "blocks = [Block(start=match.offset, end=match.offset+len(match.text)) for match in session.query(Match).order_by(Match.offset)]\n",
    "\n",
    "# Merge overlapping or contiguous blocks\n",
    "for i in range(len(blocks)-2, -1, -1):\n",
    "    if blocks[i+1].start <= blocks[i].end+1:\n",
    "        blocks[i].end = max(blocks[i].end, blocks[i+1].end)\n",
    "        del blocks[i+1]\n",
    "\n",
    "len(blocks)"
   ]
  },
  {
   "cell_type": "code",
   "execution_count": null,
   "id": "8df18f3b-8f03-4a6f-8ff5-32299936af78",
   "metadata": {},
   "outputs": [],
   "source": [
    "# Put redacted text back together\n",
    "redacted_file = test_file.parent / f\"{test_file.stem}_redacted{test_file.suffix}\""
   ]
  },
  {
   "cell_type": "code",
   "execution_count": null,
   "id": "f508a1b8-464c-418a-a380-ce5536f29b78",
   "metadata": {},
   "outputs": [],
   "source": [
    "with test_file.open(mode=\"r\", **text_file_open_options) as src, redacted_file.open(mode=\"w\", encoding=\"UTF-8\") as dest:\n",
    "    \n",
    "    # Characters read so far from source file (cannot rely on file seek/tell in text mode)\n",
    "    chars_read = 0\n",
    "\n",
    "    for block in blocks:\n",
    "        \n",
    "        # Write up to the block to redact\n",
    "        read_buffer_length = block.start - chars_read\n",
    "        dest.write(src.read(read_buffer_length))\n",
    "        chars_read += read_buffer_length\n",
    "\n",
    "        # Skip block\n",
    "        read_buffer_length = block.end - block.start\n",
    "        _ = src.read(read_buffer_length)\n",
    "        chars_read += read_buffer_length\n",
    "\n",
    "        # Write a redacted block\n",
    "        dest.write(redacted_block)\n",
    "\n",
    "    # Write remaining text past the last block\n",
    "    dest.write(src.read())"
   ]
  },
  {
   "cell_type": "code",
   "execution_count": null,
   "id": "66d7d5f0-c93b-49c1-aee5-03cc05e31005",
   "metadata": {},
   "outputs": [],
   "source": [
    "session.close()"
   ]
  }
 ],
 "metadata": {
  "kernelspec": {
   "display_name": "Python 3",
   "language": "python",
   "name": "python3"
  },
  "language_info": {
   "codemirror_mode": {
    "name": "ipython",
    "version": 3
   },
   "file_extension": ".py",
   "mimetype": "text/x-python",
   "name": "python",
   "nbconvert_exporter": "python",
   "pygments_lexer": "ipython3",
   "version": "3.9.7"
  }
 },
 "nbformat": 4,
 "nbformat_minor": 5
}
