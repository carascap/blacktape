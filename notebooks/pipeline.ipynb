{
 "cells": [
  {
   "cell_type": "code",
   "execution_count": 1,
   "id": "121dec3a-bb81-4519-9453-7a408bcb5461",
   "metadata": {},
   "outputs": [],
   "source": [
    "import logging\n",
    "from pathlib import Path\n",
    "\n",
    "import blacktape\n",
    "from blacktape.pipeline import Pipeline\n",
    "\n",
    "logger = logging.getLogger(__name__)"
   ]
  },
  {
   "cell_type": "code",
   "execution_count": 2,
   "id": "e2b73c35-e1bb-4422-a02e-067a582e7d53",
   "metadata": {},
   "outputs": [
    {
     "data": {
      "text/plain": [
       "'0.0.1.dev13'"
      ]
     },
     "execution_count": 2,
     "metadata": {},
     "output_type": "execute_result"
    }
   ],
   "source": [
    "blacktape.__version__"
   ]
  },
  {
   "cell_type": "markdown",
   "id": "57fcd481-07a0-4bc8-85fe-3967d6790b97",
   "metadata": {},
   "source": [
    "### Test Data"
   ]
  },
  {
   "cell_type": "code",
   "execution_count": 3,
   "id": "7313bb6b-c9fb-4210-8ecc-43d77de717bd",
   "metadata": {},
   "outputs": [],
   "source": [
    "test_file = Path('../tests/sample.txt')"
   ]
  },
  {
   "cell_type": "code",
   "execution_count": 4,
   "id": "1eb6aadc-20df-4fb8-8bb5-9ab89a2ffb49",
   "metadata": {},
   "outputs": [],
   "source": [
    "text = test_file.read_text(encoding='UTF-8')\n",
    "# print(text)"
   ]
  },
  {
   "cell_type": "markdown",
   "id": "ae75b311-7b85-4a2e-b9d6-9e86933de550",
   "metadata": {},
   "source": [
    "### Entities"
   ]
  },
  {
   "cell_type": "code",
   "execution_count": 5,
   "id": "cd1f89d9-6def-41c0-8cd1-deab7ffb5954",
   "metadata": {},
   "outputs": [],
   "source": [
    "# Entity types we're interested in\n",
    "target_entities = {'PERSON', 'ORG', 'DATE', 'FOOD'}"
   ]
  },
  {
   "cell_type": "code",
   "execution_count": 6,
   "id": "92e23592-479e-4350-9c64-a38a81bcd745",
   "metadata": {},
   "outputs": [],
   "source": [
    "# spaCy model name\n",
    "model = 'en_core_web_sm'"
   ]
  },
  {
   "cell_type": "markdown",
   "id": "ad57b90a-67c6-4d5a-894c-b3c47b8193da",
   "metadata": {},
   "source": [
    "### Regexes"
   ]
  },
  {
   "cell_type": "code",
   "execution_count": 7,
   "id": "bf94e040-0251-4a19-9bb6-33dac5c7beec",
   "metadata": {},
   "outputs": [],
   "source": [
    "# E.g: numbers and capitalized words\n",
    "patterns = [r\"[0-9]+\", r\"\\b[A-Z][a-zA-Z]*\\b\"]"
   ]
  },
  {
   "cell_type": "markdown",
   "id": "5ad21974-509a-4819-a2bf-dd7a5db4af7b",
   "metadata": {},
   "source": [
    "### Pipeline"
   ]
  },
  {
   "cell_type": "code",
   "execution_count": 8,
   "id": "81a04d7d-eef4-4b1c-9b34-e6e0c53fbc28",
   "metadata": {},
   "outputs": [
    {
     "name": "stdout",
     "output_type": "stream",
     "text": [
      "{'pattern': '[0-9]+', 'text': '12', 'offset': 98}\n",
      "{'pattern': '[0-9]+', 'text': '2021', 'offset': 102}\n",
      "{'pattern': '[0-9]+', 'text': '2', 'offset': 109}\n",
      "{'pattern': '[0-9]+', 'text': '00', 'offset': 111}\n",
      "{'pattern': '[0-9]+', 'text': '9', 'offset': 305}\n",
      "{'pattern': '[0-9]+', 'text': '15', 'offset': 311}\n",
      "{'pattern': '[0-9]+', 'text': '50', 'offset': 339}\n",
      "{'pattern': '[0-9]+', 'text': '1', 'offset': 358}\n",
      "{'pattern': '[0-9]+', 'text': '60', 'offset': 1119}\n",
      "{'pattern': '[0-9]+', 'text': '90', 'offset': 1257}\n",
      "{'pattern': '[0-9]+', 'text': '26', 'offset': 1274}\n",
      "{'pattern': '[0-9]+', 'text': '24', 'offset': 1697}\n",
      "{'pattern': '[0-9]+', 'text': '1', 'offset': 1710}\n",
      "{'pattern': '[0-9]+', 'text': '6421', 'offset': 1944}\n",
      "{'pattern': '[0-9]+', 'text': '29', 'offset': 1961}\n",
      "{'pattern': '[0-9]+', 'text': '8', 'offset': 1993}\n",
      "{'pattern': '[0-9]+', 'text': '95', 'offset': 2004}\n",
      "{'pattern': '[0-9]+', 'text': '9', 'offset': 2559}\n",
      "{'pattern': '[0-9]+', 'text': '15', 'offset': 2565}\n",
      "{'pattern': '[0-9]+', 'text': '5', 'offset': 2706}\n",
      "{'pattern': '[0-9]+', 'text': '20', 'offset': 2779}\n",
      "{'pattern': '[0-9]+', 'text': '60', 'offset': 2831}\n",
      "{'pattern': '[0-9]+', 'text': '90', 'offset': 2873}\n",
      "{'pattern': '[0-9]+', 'text': '26', 'offset': 2894}\n",
      "{'pattern': '[0-9]+', 'text': '30', 'offset': 3455}\n",
      "{'pattern': '[0-9]+', 'text': '40', 'offset': 3463}\n",
      "{'pattern': '[0-9]+', 'text': '2014', 'offset': 4168}\n",
      "{'pattern': '[0-9]+', 'text': '43', 'offset': 4241}\n",
      "{'pattern': '\\\\b[A-Z][a-zA-Z]*\\\\b', 'text': 'Little', 'offset': 0}\n",
      "{'pattern': '\\\\b[A-Z][a-zA-Z]*\\\\b', 'text': 'By', 'offset': 79}\n",
      "{'pattern': '\\\\b[A-Z][a-zA-Z]*\\\\b', 'text': 'Ann', 'offset': 82}\n",
      "{'pattern': '\\\\b[A-Z][a-zA-Z]*\\\\b', 'text': 'GibbonsAug', 'offset': 86}\n",
      "{'pattern': '\\\\b[A-Z][a-zA-Z]*\\\\b', 'text': 'PM', 'offset': 114}\n",
      "{'pattern': '\\\\b[A-Z][a-zA-Z]*\\\\b', 'text': 'As', 'offset': 118}\n",
      "{'pattern': '\\\\b[A-Z][a-zA-Z]*\\\\b', 'text': 'Now', 'offset': 171}\n",
      "{'pattern': '\\\\b[A-Z][a-zA-Z]*\\\\b', 'text': 'Infants', 'offset': 277}\n",
      "{'pattern': '\\\\b[A-Z][a-zA-Z]*\\\\b', 'text': 'These', 'offset': 404}\n",
      "{'pattern': '\\\\b[A-Z][a-zA-Z]*\\\\b', 'text': 'Little', 'offset': 569}\n",
      "{'pattern': '\\\\b[A-Z][a-zA-Z]*\\\\b', 'text': 'Duke', 'offset': 631}\n",
      "{'pattern': '\\\\b[A-Z][a-zA-Z]*\\\\b', 'text': 'University', 'offset': 636}\n",
      "{'pattern': '\\\\b[A-Z][a-zA-Z]*\\\\b', 'text': 'Herman', 'offset': 670}\n",
      "{'pattern': '\\\\b[A-Z][a-zA-Z]*\\\\b', 'text': 'Pontzer', 'offset': 677}\n",
      "{'pattern': '\\\\b[A-Z][a-zA-Z]*\\\\b', 'text': 'They', 'offset': 743}\n",
      "{'pattern': '\\\\b[A-Z][a-zA-Z]*\\\\b', 'text': 'But', 'offset': 807}\n",
      "{'pattern': '\\\\b[A-Z][a-zA-Z]*\\\\b', 'text': 'Their', 'offset': 840}\n",
      "{'pattern': '\\\\b[A-Z][a-zA-Z]*\\\\b', 'text': 'Their', 'offset': 969}\n",
      "{'pattern': '\\\\b[A-Z][a-zA-Z]*\\\\b', 'text': 'On', 'offset': 1083}\n",
      "{'pattern': '\\\\b[A-Z][a-zA-Z]*\\\\b', 'text': 'Scientists', 'offset': 1315}\n",
      "{'pattern': '\\\\b[A-Z][a-zA-Z]*\\\\b', 'text': 'That', 'offset': 1403}\n",
      "{'pattern': '\\\\b[A-Z][a-zA-Z]*\\\\b', 'text': 'Scientists', 'offset': 1606}\n",
      "{'pattern': '\\\\b[A-Z][a-zA-Z]*\\\\b', 'text': 'In', 'offset': 1792}\n",
      "{'pattern': '\\\\b[A-Z][a-zA-Z]*\\\\b', 'text': 'Pontzer', 'offset': 1810}\n",
      "{'pattern': '\\\\b[A-Z][a-zA-Z]*\\\\b', 'text': 'The', 'offset': 2014}\n",
      "{'pattern': '\\\\b[A-Z][a-zA-Z]*\\\\b', 'text': 'Lean', 'offset': 2222}\n",
      "{'pattern': '\\\\b[A-Z][a-zA-Z]*\\\\b', 'text': 'When', 'offset': 2366}\n",
      "{'pattern': '\\\\b[A-Z][a-zA-Z]*\\\\b', 'text': 'But', 'offset': 2547}\n",
      "{'pattern': '\\\\b[A-Z][a-zA-Z]*\\\\b', 'text': 'Science', 'offset': 2649}\n",
      "{'pattern': '\\\\b[A-Z][a-zA-Z]*\\\\b', 'text': 'Children', 'offset': 2659}\n",
      "{'pattern': '\\\\b[A-Z][a-zA-Z]*\\\\b', 'text': 'Interestingly', 'offset': 2783}\n",
      "{'pattern': '\\\\b[A-Z][a-zA-Z]*\\\\b', 'text': 'After', 'offset': 2863}\n",
      "{'pattern': '\\\\b[A-Z][a-zA-Z]*\\\\b', 'text': 'Pontzer', 'offset': 2917}\n",
      "{'pattern': '\\\\b[A-Z][a-zA-Z]*\\\\b', 'text': 'The', 'offset': 2932}\n",
      "{'pattern': '\\\\b[A-Z][a-zA-Z]*\\\\b', 'text': 'We', 'offset': 3094}\n",
      "{'pattern': '\\\\b[A-Z][a-zA-Z]*\\\\b', 'text': 'Pontzer', 'offset': 3207}\n",
      "{'pattern': '\\\\b[A-Z][a-zA-Z]*\\\\b', 'text': 'The', 'offset': 3222}\n",
      "{'pattern': '\\\\b[A-Z][a-zA-Z]*\\\\b', 'text': 'When', 'offset': 3338}\n",
      "{'pattern': '\\\\b[A-Z][a-zA-Z]*\\\\b', 'text': 'Pontzer', 'offset': 3432}\n",
      "{'pattern': '\\\\b[A-Z][a-zA-Z]*\\\\b', 'text': 'In', 'offset': 3447}\n",
      "{'pattern': '\\\\b[A-Z][a-zA-Z]*\\\\b', 'text': 'But', 'offset': 3549}\n",
      "{'pattern': '\\\\b[A-Z][a-zA-Z]*\\\\b', 'text': 'Hormonal', 'offset': 3599}\n",
      "{'pattern': '\\\\b[A-Z][a-zA-Z]*\\\\b', 'text': 'Pontzer', 'offset': 3717}\n",
      "{'pattern': '\\\\b[A-Z][a-zA-Z]*\\\\b', 'text': 'And', 'offset': 3885}\n",
      "{'pattern': '\\\\b[A-Z][a-zA-Z]*\\\\b', 'text': 'The', 'offset': 3981}\n",
      "{'pattern': '\\\\b[A-Z][a-zA-Z]*\\\\b', 'text': 'Chris', 'offset': 4078}\n",
      "{'pattern': '\\\\b[A-Z][a-zA-Z]*\\\\b', 'text': 'Kuzawa', 'offset': 4084}\n",
      "{'pattern': '\\\\b[A-Z][a-zA-Z]*\\\\b', 'text': 'Northwestern', 'offset': 4094}\n",
      "{'pattern': '\\\\b[A-Z][a-zA-Z]*\\\\b', 'text': 'University', 'offset': 4107}\n",
      "{'pattern': '\\\\b[A-Z][a-zA-Z]*\\\\b', 'text': 'Kuzawa', 'offset': 4119}\n",
      "{'pattern': '\\\\b[A-Z][a-zA-Z]*\\\\b', 'text': 'This', 'offset': 4279}\n",
      "{'pattern': '\\\\b[A-Z][a-zA-Z]*\\\\b', 'text': 'Grazyna', 'offset': 4341}\n",
      "{'pattern': '\\\\b[A-Z][a-zA-Z]*\\\\b', 'text': 'Jasienska', 'offset': 4349}\n",
      "{'pattern': '\\\\b[A-Z][a-zA-Z]*\\\\b', 'text': 'Jagiellonian', 'offset': 4391}\n",
      "{'pattern': '\\\\b[A-Z][a-zA-Z]*\\\\b', 'text': 'University', 'offset': 4404}\n",
      "{'pattern': '\\\\b[A-Z][a-zA-Z]*\\\\b', 'text': 'Poland', 'offset': 4418}\n",
      "{'pattern': '\\\\b[A-Z][a-zA-Z]*\\\\b', 'text': 'She', 'offset': 4457}\n",
      "{'pattern': '\\\\b[A-Z][a-zA-Z]*\\\\b', 'text': 'If', 'offset': 4608}\n",
      "{'text': 'Ann GibbonsAug', 'label': 'PERSON', 'offset': 82}\n",
      "{'text': 'between the ages of 9 and 15 months', 'label': 'DATE', 'offset': 285}\n",
      "{'text': '1 day', 'label': 'DATE', 'offset': 358}\n",
      "{'text': 'Duke University', 'label': 'ORG', 'offset': 631}\n",
      "{'text': 'Herman Pontzer', 'label': 'PERSON', 'offset': 670}\n",
      "{'text': 'daily', 'label': 'DATE', 'offset': 1147}\n",
      "{'text': 'age 90', 'label': 'DATE', 'offset': 1253}\n",
      "{'text': '1 week', 'label': 'DATE', 'offset': 1710}\n",
      "{'text': 'a day', 'label': 'DATE', 'offset': 1784}\n",
      "{'text': 'Pontzer', 'label': 'PERSON', 'offset': 1810}\n",
      "{'text': 'between the ages of 8 days', 'label': 'DATE', 'offset': 1973}\n",
      "{'text': '95 years', 'label': 'DATE', 'offset': 2004}\n",
      "{'text': 'between 9 and 15 months', 'label': 'DATE', 'offset': 2551}\n",
      "{'text': 'today', 'label': 'DATE', 'offset': 2640}\n",
      "{'text': 'Science', 'label': 'ORG', 'offset': 2649}\n",
      "{'text': 'age 5', 'label': 'DATE', 'offset': 2702}\n",
      "{'text': 'age 20', 'label': 'DATE', 'offset': 2775}\n",
      "{'text': 'age 60', 'label': 'DATE', 'offset': 2827}\n",
      "{'text': 'age 90', 'label': 'DATE', 'offset': 2869}\n",
      "{'text': 'daily', 'label': 'DATE', 'offset': 2910}\n",
      "{'text': 'Pontzer', 'label': 'PERSON', 'offset': 2917}\n",
      "{'text': 'Pontzer', 'label': 'PERSON', 'offset': 3207}\n",
      "{'text': 'Pontzer', 'label': 'PERSON', 'offset': 3432}\n",
      "{'text': '30s and 40s', 'label': 'DATE', 'offset': 3455}\n",
      "{'text': 'Hormonal', 'label': 'ORG', 'offset': 3599}\n",
      "{'text': 'Pontzer', 'label': 'PERSON', 'offset': 3717}\n",
      "{'text': 'Chris Kuzawa', 'label': 'PERSON', 'offset': 4078}\n",
      "{'text': 'Northwestern University', 'label': 'ORG', 'offset': 4094}\n",
      "{'text': '2014', 'label': 'DATE', 'offset': 4168}\n",
      "{'text': 'Grazyna Jasienska', 'label': 'PERSON', 'offset': 4341}\n",
      "{'text': 'Jagiellonian University', 'label': 'ORG', 'offset': 4391}\n"
     ]
    }
   ],
   "source": [
    "with Pipeline(spacy_model=model) as pipeline:\n",
    "    pipeline.submit_ner_job(text, target_entities)\n",
    "\n",
    "    for pattern in patterns:\n",
    "        pipeline.submit_regex_job(text, pattern)\n",
    "\n",
    "    for result in pipeline.results():\n",
    "        for match in result:\n",
    "            print(match)"
   ]
  },
  {
   "cell_type": "code",
   "execution_count": null,
   "id": "3981258c-d430-4232-8715-bab33d74adbe",
   "metadata": {},
   "outputs": [],
   "source": []
  }
 ],
 "metadata": {
  "kernelspec": {
   "display_name": "Python 3",
   "language": "python",
   "name": "python3"
  },
  "language_info": {
   "codemirror_mode": {
    "name": "ipython",
    "version": 3
   },
   "file_extension": ".py",
   "mimetype": "text/x-python",
   "name": "python",
   "nbconvert_exporter": "python",
   "pygments_lexer": "ipython3",
   "version": "3.9.5"
  }
 },
 "nbformat": 4,
 "nbformat_minor": 5
}
