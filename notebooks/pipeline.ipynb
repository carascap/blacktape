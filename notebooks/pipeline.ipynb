{
 "cells": [
  {
   "cell_type": "code",
   "execution_count": null,
   "id": "121dec3a-bb81-4519-9453-7a408bcb5461",
   "metadata": {},
   "outputs": [],
   "source": [
    "import logging\n",
    "from pathlib import Path\n",
    "\n",
    "import blacktape\n",
    "from blacktape.pipeline import Pipeline\n",
    "\n",
    "logger = logging.getLogger(__name__)"
   ]
  },
  {
   "cell_type": "code",
   "execution_count": null,
   "id": "e2b73c35-e1bb-4422-a02e-067a582e7d53",
   "metadata": {},
   "outputs": [],
   "source": [
    "blacktape.__version__"
   ]
  },
  {
   "cell_type": "markdown",
   "id": "57fcd481-07a0-4bc8-85fe-3967d6790b97",
   "metadata": {},
   "source": [
    "### Test Data"
   ]
  },
  {
   "cell_type": "code",
   "execution_count": null,
   "id": "7313bb6b-c9fb-4210-8ecc-43d77de717bd",
   "metadata": {},
   "outputs": [],
   "source": [
    "test_file = Path('../tests/data/sample.txt')"
   ]
  },
  {
   "cell_type": "code",
   "execution_count": null,
   "id": "1eb6aadc-20df-4fb8-8bb5-9ab89a2ffb49",
   "metadata": {},
   "outputs": [],
   "source": [
    "text = test_file.read_text(encoding='UTF-8')\n",
    "# print(text)"
   ]
  },
  {
   "cell_type": "markdown",
   "id": "ae75b311-7b85-4a2e-b9d6-9e86933de550",
   "metadata": {},
   "source": [
    "### Entities"
   ]
  },
  {
   "cell_type": "code",
   "execution_count": null,
   "id": "cd1f89d9-6def-41c0-8cd1-deab7ffb5954",
   "metadata": {},
   "outputs": [],
   "source": [
    "# Entity types we're interested in\n",
    "target_entities = {'PERSON', 'ORG', 'DATE'}"
   ]
  },
  {
   "cell_type": "code",
   "execution_count": null,
   "id": "92e23592-479e-4350-9c64-a38a81bcd745",
   "metadata": {},
   "outputs": [],
   "source": [
    "# spaCy model name\n",
    "model = 'en_core_web_sm'"
   ]
  },
  {
   "cell_type": "code",
   "execution_count": null,
   "id": "15393f8e-e422-4cd2-b36e-c273482262e0",
   "metadata": {},
   "outputs": [],
   "source": [
    "# Make sure the model is installed\n",
    "!spacy-model install {model}"
   ]
  },
  {
   "cell_type": "markdown",
   "id": "ad57b90a-67c6-4d5a-894c-b3c47b8193da",
   "metadata": {},
   "source": [
    "### Regexes"
   ]
  },
  {
   "cell_type": "code",
   "execution_count": null,
   "id": "bf94e040-0251-4a19-9bb6-33dac5c7beec",
   "metadata": {},
   "outputs": [],
   "source": [
    "# E.g: numbers and capitalized words\n",
    "patterns = [\n",
    "    (r\"[0-9]+\", \"number\"),\n",
    "    (r\"\\b[A-Z][a-zA-Z]*\\b\", \"capitalized word\")\n",
    "]"
   ]
  },
  {
   "cell_type": "markdown",
   "id": "5ad21974-509a-4819-a2bf-dd7a5db4af7b",
   "metadata": {},
   "source": [
    "### Pipeline"
   ]
  },
  {
   "cell_type": "code",
   "execution_count": null,
   "id": "81a04d7d-eef4-4b1c-9b34-e6e0c53fbc28",
   "metadata": {},
   "outputs": [],
   "source": [
    "with Pipeline(spacy_model=model) as pipeline:\n",
    "    pipeline.submit_ner_job(text, target_entities)\n",
    "\n",
    "    for pattern, label in patterns:\n",
    "        pipeline.submit_regex_job(text, pattern, label)\n",
    "\n",
    "    for result in pipeline.results():\n",
    "        for match in result:\n",
    "            print(match)"
   ]
  },
  {
   "cell_type": "code",
   "execution_count": null,
   "id": "3981258c-d430-4232-8715-bab33d74adbe",
   "metadata": {},
   "outputs": [],
   "source": []
  }
 ],
 "metadata": {
  "kernelspec": {
   "display_name": "Python 3",
   "language": "python",
   "name": "python3"
  },
  "language_info": {
   "codemirror_mode": {
    "name": "ipython",
    "version": 3
   },
   "file_extension": ".py",
   "mimetype": "text/x-python",
   "name": "python",
   "nbconvert_exporter": "python",
   "pygments_lexer": "ipython3",
   "version": "3.9.7"
  }
 },
 "nbformat": 4,
 "nbformat_minor": 5
}
