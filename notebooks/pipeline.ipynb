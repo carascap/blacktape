{
 "cells": [
  {
   "cell_type": "code",
   "execution_count": 1,
   "id": "121dec3a-bb81-4519-9453-7a408bcb5461",
   "metadata": {},
   "outputs": [],
   "source": [
    "import logging\n",
    "from pathlib import Path\n",
    "\n",
    "import blacktape\n",
    "from blacktape.pipeline import Pipeline\n",
    "\n",
    "logger = logging.getLogger(__name__)"
   ]
  },
  {
   "cell_type": "code",
   "execution_count": 2,
   "id": "e2b73c35-e1bb-4422-a02e-067a582e7d53",
   "metadata": {},
   "outputs": [
    {
     "data": {
      "text/plain": [
       "'0.0.1.dev30'"
      ]
     },
     "execution_count": 2,
     "metadata": {},
     "output_type": "execute_result"
    }
   ],
   "source": [
    "blacktape.__version__"
   ]
  },
  {
   "cell_type": "markdown",
   "id": "57fcd481-07a0-4bc8-85fe-3967d6790b97",
   "metadata": {},
   "source": [
    "### Test Data"
   ]
  },
  {
   "cell_type": "code",
   "execution_count": 3,
   "id": "7313bb6b-c9fb-4210-8ecc-43d77de717bd",
   "metadata": {},
   "outputs": [],
   "source": [
    "test_file = Path('../tests/data/sample.txt')"
   ]
  },
  {
   "cell_type": "code",
   "execution_count": 4,
   "id": "1eb6aadc-20df-4fb8-8bb5-9ab89a2ffb49",
   "metadata": {},
   "outputs": [],
   "source": [
    "text = test_file.read_text(encoding='UTF-8')\n",
    "# print(text)"
   ]
  },
  {
   "cell_type": "markdown",
   "id": "ae75b311-7b85-4a2e-b9d6-9e86933de550",
   "metadata": {},
   "source": [
    "### Entities"
   ]
  },
  {
   "cell_type": "code",
   "execution_count": 5,
   "id": "cd1f89d9-6def-41c0-8cd1-deab7ffb5954",
   "metadata": {},
   "outputs": [],
   "source": [
    "# Entity types we're interested in\n",
    "target_entities = {'PERSON', 'ORG', 'DATE', 'FOOD'}"
   ]
  },
  {
   "cell_type": "code",
   "execution_count": 6,
   "id": "92e23592-479e-4350-9c64-a38a81bcd745",
   "metadata": {},
   "outputs": [],
   "source": [
    "# spaCy model name\n",
    "model = 'en_core_web_sm'"
   ]
  },
  {
   "cell_type": "markdown",
   "id": "ad57b90a-67c6-4d5a-894c-b3c47b8193da",
   "metadata": {},
   "source": [
    "### Regexes"
   ]
  },
  {
   "cell_type": "code",
   "execution_count": 7,
   "id": "bf94e040-0251-4a19-9bb6-33dac5c7beec",
   "metadata": {},
   "outputs": [],
   "source": [
    "# E.g: numbers and capitalized words\n",
    "patterns = [\n",
    "    (r\"[0-9]+\", \"number\"),\n",
    "    (r\"\\b[A-Z][a-zA-Z]*\\b\", \"capitalized word\")\n",
    "]"
   ]
  },
  {
   "cell_type": "markdown",
   "id": "5ad21974-509a-4819-a2bf-dd7a5db4af7b",
   "metadata": {},
   "source": [
    "### Pipeline"
   ]
  },
  {
   "cell_type": "code",
   "execution_count": 8,
   "id": "81a04d7d-eef4-4b1c-9b34-e6e0c53fbc28",
   "metadata": {},
   "outputs": [
    {
     "name": "stdout",
     "output_type": "stream",
     "text": [
      "{'type': 'pattern', 'pattern': '[0-9]+', 'label': 'number', 'text': '12', 'offset': 98}\n",
      "{'type': 'pattern', 'pattern': '[0-9]+', 'label': 'number', 'text': '2021', 'offset': 102}\n",
      "{'type': 'pattern', 'pattern': '[0-9]+', 'label': 'number', 'text': '2', 'offset': 109}\n",
      "{'type': 'pattern', 'pattern': '[0-9]+', 'label': 'number', 'text': '00', 'offset': 111}\n",
      "{'type': 'pattern', 'pattern': '[0-9]+', 'label': 'number', 'text': '9', 'offset': 305}\n",
      "{'type': 'pattern', 'pattern': '[0-9]+', 'label': 'number', 'text': '15', 'offset': 311}\n",
      "{'type': 'pattern', 'pattern': '[0-9]+', 'label': 'number', 'text': '50', 'offset': 339}\n",
      "{'type': 'pattern', 'pattern': '[0-9]+', 'label': 'number', 'text': '1', 'offset': 358}\n",
      "{'type': 'pattern', 'pattern': '[0-9]+', 'label': 'number', 'text': '60', 'offset': 1119}\n",
      "{'type': 'pattern', 'pattern': '[0-9]+', 'label': 'number', 'text': '90', 'offset': 1257}\n",
      "{'type': 'pattern', 'pattern': '[0-9]+', 'label': 'number', 'text': '26', 'offset': 1274}\n",
      "{'type': 'pattern', 'pattern': '[0-9]+', 'label': 'number', 'text': '24', 'offset': 1697}\n",
      "{'type': 'pattern', 'pattern': '[0-9]+', 'label': 'number', 'text': '1', 'offset': 1710}\n",
      "{'type': 'pattern', 'pattern': '[0-9]+', 'label': 'number', 'text': '6421', 'offset': 1944}\n",
      "{'type': 'pattern', 'pattern': '[0-9]+', 'label': 'number', 'text': '29', 'offset': 1961}\n",
      "{'type': 'pattern', 'pattern': '[0-9]+', 'label': 'number', 'text': '8', 'offset': 1993}\n",
      "{'type': 'pattern', 'pattern': '[0-9]+', 'label': 'number', 'text': '95', 'offset': 2004}\n",
      "{'type': 'pattern', 'pattern': '[0-9]+', 'label': 'number', 'text': '9', 'offset': 2559}\n",
      "{'type': 'pattern', 'pattern': '[0-9]+', 'label': 'number', 'text': '15', 'offset': 2565}\n",
      "{'type': 'pattern', 'pattern': '[0-9]+', 'label': 'number', 'text': '5', 'offset': 2706}\n",
      "{'type': 'pattern', 'pattern': '[0-9]+', 'label': 'number', 'text': '20', 'offset': 2779}\n",
      "{'type': 'pattern', 'pattern': '[0-9]+', 'label': 'number', 'text': '60', 'offset': 2831}\n",
      "{'type': 'pattern', 'pattern': '[0-9]+', 'label': 'number', 'text': '90', 'offset': 2873}\n",
      "{'type': 'pattern', 'pattern': '[0-9]+', 'label': 'number', 'text': '26', 'offset': 2894}\n",
      "{'type': 'pattern', 'pattern': '[0-9]+', 'label': 'number', 'text': '30', 'offset': 3455}\n",
      "{'type': 'pattern', 'pattern': '[0-9]+', 'label': 'number', 'text': '40', 'offset': 3463}\n",
      "{'type': 'pattern', 'pattern': '[0-9]+', 'label': 'number', 'text': '2014', 'offset': 4168}\n",
      "{'type': 'pattern', 'pattern': '[0-9]+', 'label': 'number', 'text': '43', 'offset': 4241}\n",
      "{'type': 'pattern', 'pattern': '\\\\b[A-Z][a-zA-Z]*\\\\b', 'label': 'capitalized word', 'text': 'Little', 'offset': 0}\n",
      "{'type': 'pattern', 'pattern': '\\\\b[A-Z][a-zA-Z]*\\\\b', 'label': 'capitalized word', 'text': 'By', 'offset': 79}\n",
      "{'type': 'pattern', 'pattern': '\\\\b[A-Z][a-zA-Z]*\\\\b', 'label': 'capitalized word', 'text': 'Ann', 'offset': 82}\n",
      "{'type': 'pattern', 'pattern': '\\\\b[A-Z][a-zA-Z]*\\\\b', 'label': 'capitalized word', 'text': 'GibbonsAug', 'offset': 86}\n",
      "{'type': 'pattern', 'pattern': '\\\\b[A-Z][a-zA-Z]*\\\\b', 'label': 'capitalized word', 'text': 'PM', 'offset': 114}\n",
      "{'type': 'pattern', 'pattern': '\\\\b[A-Z][a-zA-Z]*\\\\b', 'label': 'capitalized word', 'text': 'As', 'offset': 118}\n",
      "{'type': 'pattern', 'pattern': '\\\\b[A-Z][a-zA-Z]*\\\\b', 'label': 'capitalized word', 'text': 'Now', 'offset': 171}\n",
      "{'type': 'pattern', 'pattern': '\\\\b[A-Z][a-zA-Z]*\\\\b', 'label': 'capitalized word', 'text': 'Infants', 'offset': 277}\n",
      "{'type': 'pattern', 'pattern': '\\\\b[A-Z][a-zA-Z]*\\\\b', 'label': 'capitalized word', 'text': 'These', 'offset': 404}\n",
      "{'type': 'pattern', 'pattern': '\\\\b[A-Z][a-zA-Z]*\\\\b', 'label': 'capitalized word', 'text': 'Little', 'offset': 569}\n",
      "{'type': 'pattern', 'pattern': '\\\\b[A-Z][a-zA-Z]*\\\\b', 'label': 'capitalized word', 'text': 'Duke', 'offset': 631}\n",
      "{'type': 'pattern', 'pattern': '\\\\b[A-Z][a-zA-Z]*\\\\b', 'label': 'capitalized word', 'text': 'University', 'offset': 636}\n",
      "{'type': 'pattern', 'pattern': '\\\\b[A-Z][a-zA-Z]*\\\\b', 'label': 'capitalized word', 'text': 'Herman', 'offset': 670}\n",
      "{'type': 'pattern', 'pattern': '\\\\b[A-Z][a-zA-Z]*\\\\b', 'label': 'capitalized word', 'text': 'Pontzer', 'offset': 677}\n",
      "{'type': 'pattern', 'pattern': '\\\\b[A-Z][a-zA-Z]*\\\\b', 'label': 'capitalized word', 'text': 'They', 'offset': 743}\n",
      "{'type': 'pattern', 'pattern': '\\\\b[A-Z][a-zA-Z]*\\\\b', 'label': 'capitalized word', 'text': 'But', 'offset': 807}\n",
      "{'type': 'pattern', 'pattern': '\\\\b[A-Z][a-zA-Z]*\\\\b', 'label': 'capitalized word', 'text': 'Their', 'offset': 840}\n",
      "{'type': 'pattern', 'pattern': '\\\\b[A-Z][a-zA-Z]*\\\\b', 'label': 'capitalized word', 'text': 'Their', 'offset': 969}\n",
      "{'type': 'pattern', 'pattern': '\\\\b[A-Z][a-zA-Z]*\\\\b', 'label': 'capitalized word', 'text': 'On', 'offset': 1083}\n",
      "{'type': 'pattern', 'pattern': '\\\\b[A-Z][a-zA-Z]*\\\\b', 'label': 'capitalized word', 'text': 'Scientists', 'offset': 1315}\n",
      "{'type': 'pattern', 'pattern': '\\\\b[A-Z][a-zA-Z]*\\\\b', 'label': 'capitalized word', 'text': 'That', 'offset': 1403}\n",
      "{'type': 'pattern', 'pattern': '\\\\b[A-Z][a-zA-Z]*\\\\b', 'label': 'capitalized word', 'text': 'Scientists', 'offset': 1606}\n",
      "{'type': 'pattern', 'pattern': '\\\\b[A-Z][a-zA-Z]*\\\\b', 'label': 'capitalized word', 'text': 'In', 'offset': 1792}\n",
      "{'type': 'pattern', 'pattern': '\\\\b[A-Z][a-zA-Z]*\\\\b', 'label': 'capitalized word', 'text': 'Pontzer', 'offset': 1810}\n",
      "{'type': 'pattern', 'pattern': '\\\\b[A-Z][a-zA-Z]*\\\\b', 'label': 'capitalized word', 'text': 'The', 'offset': 2014}\n",
      "{'type': 'pattern', 'pattern': '\\\\b[A-Z][a-zA-Z]*\\\\b', 'label': 'capitalized word', 'text': 'Lean', 'offset': 2222}\n",
      "{'type': 'pattern', 'pattern': '\\\\b[A-Z][a-zA-Z]*\\\\b', 'label': 'capitalized word', 'text': 'When', 'offset': 2366}\n",
      "{'type': 'pattern', 'pattern': '\\\\b[A-Z][a-zA-Z]*\\\\b', 'label': 'capitalized word', 'text': 'But', 'offset': 2547}\n",
      "{'type': 'pattern', 'pattern': '\\\\b[A-Z][a-zA-Z]*\\\\b', 'label': 'capitalized word', 'text': 'Science', 'offset': 2649}\n",
      "{'type': 'pattern', 'pattern': '\\\\b[A-Z][a-zA-Z]*\\\\b', 'label': 'capitalized word', 'text': 'Children', 'offset': 2659}\n",
      "{'type': 'pattern', 'pattern': '\\\\b[A-Z][a-zA-Z]*\\\\b', 'label': 'capitalized word', 'text': 'Interestingly', 'offset': 2783}\n",
      "{'type': 'pattern', 'pattern': '\\\\b[A-Z][a-zA-Z]*\\\\b', 'label': 'capitalized word', 'text': 'After', 'offset': 2863}\n",
      "{'type': 'pattern', 'pattern': '\\\\b[A-Z][a-zA-Z]*\\\\b', 'label': 'capitalized word', 'text': 'Pontzer', 'offset': 2917}\n",
      "{'type': 'pattern', 'pattern': '\\\\b[A-Z][a-zA-Z]*\\\\b', 'label': 'capitalized word', 'text': 'The', 'offset': 2932}\n",
      "{'type': 'pattern', 'pattern': '\\\\b[A-Z][a-zA-Z]*\\\\b', 'label': 'capitalized word', 'text': 'We', 'offset': 3094}\n",
      "{'type': 'pattern', 'pattern': '\\\\b[A-Z][a-zA-Z]*\\\\b', 'label': 'capitalized word', 'text': 'Pontzer', 'offset': 3207}\n",
      "{'type': 'pattern', 'pattern': '\\\\b[A-Z][a-zA-Z]*\\\\b', 'label': 'capitalized word', 'text': 'The', 'offset': 3222}\n",
      "{'type': 'pattern', 'pattern': '\\\\b[A-Z][a-zA-Z]*\\\\b', 'label': 'capitalized word', 'text': 'When', 'offset': 3338}\n",
      "{'type': 'pattern', 'pattern': '\\\\b[A-Z][a-zA-Z]*\\\\b', 'label': 'capitalized word', 'text': 'Pontzer', 'offset': 3432}\n",
      "{'type': 'pattern', 'pattern': '\\\\b[A-Z][a-zA-Z]*\\\\b', 'label': 'capitalized word', 'text': 'In', 'offset': 3447}\n",
      "{'type': 'pattern', 'pattern': '\\\\b[A-Z][a-zA-Z]*\\\\b', 'label': 'capitalized word', 'text': 'But', 'offset': 3549}\n",
      "{'type': 'pattern', 'pattern': '\\\\b[A-Z][a-zA-Z]*\\\\b', 'label': 'capitalized word', 'text': 'Hormonal', 'offset': 3599}\n",
      "{'type': 'pattern', 'pattern': '\\\\b[A-Z][a-zA-Z]*\\\\b', 'label': 'capitalized word', 'text': 'Pontzer', 'offset': 3717}\n",
      "{'type': 'pattern', 'pattern': '\\\\b[A-Z][a-zA-Z]*\\\\b', 'label': 'capitalized word', 'text': 'And', 'offset': 3885}\n",
      "{'type': 'pattern', 'pattern': '\\\\b[A-Z][a-zA-Z]*\\\\b', 'label': 'capitalized word', 'text': 'The', 'offset': 3981}\n",
      "{'type': 'pattern', 'pattern': '\\\\b[A-Z][a-zA-Z]*\\\\b', 'label': 'capitalized word', 'text': 'Chris', 'offset': 4078}\n",
      "{'type': 'pattern', 'pattern': '\\\\b[A-Z][a-zA-Z]*\\\\b', 'label': 'capitalized word', 'text': 'Kuzawa', 'offset': 4084}\n",
      "{'type': 'pattern', 'pattern': '\\\\b[A-Z][a-zA-Z]*\\\\b', 'label': 'capitalized word', 'text': 'Northwestern', 'offset': 4094}\n",
      "{'type': 'pattern', 'pattern': '\\\\b[A-Z][a-zA-Z]*\\\\b', 'label': 'capitalized word', 'text': 'University', 'offset': 4107}\n",
      "{'type': 'pattern', 'pattern': '\\\\b[A-Z][a-zA-Z]*\\\\b', 'label': 'capitalized word', 'text': 'Kuzawa', 'offset': 4119}\n",
      "{'type': 'pattern', 'pattern': '\\\\b[A-Z][a-zA-Z]*\\\\b', 'label': 'capitalized word', 'text': 'This', 'offset': 4279}\n",
      "{'type': 'pattern', 'pattern': '\\\\b[A-Z][a-zA-Z]*\\\\b', 'label': 'capitalized word', 'text': 'Grazyna', 'offset': 4341}\n",
      "{'type': 'pattern', 'pattern': '\\\\b[A-Z][a-zA-Z]*\\\\b', 'label': 'capitalized word', 'text': 'Jasienska', 'offset': 4349}\n",
      "{'type': 'pattern', 'pattern': '\\\\b[A-Z][a-zA-Z]*\\\\b', 'label': 'capitalized word', 'text': 'Jagiellonian', 'offset': 4391}\n",
      "{'type': 'pattern', 'pattern': '\\\\b[A-Z][a-zA-Z]*\\\\b', 'label': 'capitalized word', 'text': 'University', 'offset': 4404}\n",
      "{'type': 'pattern', 'pattern': '\\\\b[A-Z][a-zA-Z]*\\\\b', 'label': 'capitalized word', 'text': 'Poland', 'offset': 4418}\n",
      "{'type': 'pattern', 'pattern': '\\\\b[A-Z][a-zA-Z]*\\\\b', 'label': 'capitalized word', 'text': 'She', 'offset': 4457}\n",
      "{'type': 'pattern', 'pattern': '\\\\b[A-Z][a-zA-Z]*\\\\b', 'label': 'capitalized word', 'text': 'If', 'offset': 4608}\n",
      "{'type': 'entity', 'text': 'Ann GibbonsAug', 'label': 'PERSON', 'offset': 82}\n",
      "{'type': 'entity', 'text': '12, 2021', 'label': 'DATE', 'offset': 98}\n",
      "{'type': 'entity', 'text': 'between the ages of 9 and 15 months', 'label': 'DATE', 'offset': 285}\n",
      "{'type': 'entity', 'text': '1 day', 'label': 'DATE', 'offset': 358}\n",
      "{'type': 'entity', 'text': 'Duke University', 'label': 'ORG', 'offset': 631}\n",
      "{'type': 'entity', 'text': 'Herman Pontzer', 'label': 'PERSON', 'offset': 670}\n",
      "{'type': 'entity', 'text': 'age 90', 'label': 'DATE', 'offset': 1253}\n",
      "{'type': 'entity', 'text': '1 week', 'label': 'DATE', 'offset': 1710}\n",
      "{'type': 'entity', 'text': 'a day', 'label': 'DATE', 'offset': 1784}\n",
      "{'type': 'entity', 'text': 'Pontzer', 'label': 'PERSON', 'offset': 1810}\n",
      "{'type': 'entity', 'text': '6421', 'label': 'DATE', 'offset': 1944}\n",
      "{'type': 'entity', 'text': 'between the ages of 8 days', 'label': 'DATE', 'offset': 1973}\n",
      "{'type': 'entity', 'text': '95 years', 'label': 'DATE', 'offset': 2004}\n",
      "{'type': 'entity', 'text': 'daily', 'label': 'DATE', 'offset': 2038}\n",
      "{'type': 'entity', 'text': 'daily', 'label': 'DATE', 'offset': 2102}\n",
      "{'type': 'entity', 'text': 'between 9 and 15 months', 'label': 'DATE', 'offset': 2551}\n",
      "{'type': 'entity', 'text': 'today', 'label': 'DATE', 'offset': 2640}\n",
      "{'type': 'entity', 'text': 'Science', 'label': 'ORG', 'offset': 2649}\n",
      "{'type': 'entity', 'text': 'age 5', 'label': 'DATE', 'offset': 2702}\n",
      "{'type': 'entity', 'text': 'age 20', 'label': 'DATE', 'offset': 2775}\n",
      "{'type': 'entity', 'text': 'age 60', 'label': 'DATE', 'offset': 2827}\n",
      "{'type': 'entity', 'text': 'age 90', 'label': 'DATE', 'offset': 2869}\n",
      "{'type': 'entity', 'text': 'daily', 'label': 'DATE', 'offset': 2910}\n",
      "{'type': 'entity', 'text': 'Pontzer', 'label': 'PERSON', 'offset': 2917}\n",
      "{'type': 'entity', 'text': 'Pontzer', 'label': 'PERSON', 'offset': 3207}\n",
      "{'type': 'entity', 'text': 'Pontzer', 'label': 'PERSON', 'offset': 3432}\n",
      "{'type': 'entity', 'text': '30s', 'label': 'DATE', 'offset': 3455}\n",
      "{'type': 'entity', 'text': '40s', 'label': 'DATE', 'offset': 3463}\n",
      "{'type': 'entity', 'text': 'Chris Kuzawa', 'label': 'PERSON', 'offset': 4078}\n",
      "{'type': 'entity', 'text': 'Northwestern University', 'label': 'ORG', 'offset': 4094}\n",
      "{'type': 'entity', 'text': 'Kuzawa', 'label': 'PERSON', 'offset': 4119}\n",
      "{'type': 'entity', 'text': '2014', 'label': 'DATE', 'offset': 4168}\n",
      "{'type': 'entity', 'text': 'Grazyna Jasienska', 'label': 'PERSON', 'offset': 4341}\n",
      "{'type': 'entity', 'text': 'Jagiellonian University', 'label': 'ORG', 'offset': 4391}\n"
     ]
    }
   ],
   "source": [
    "with Pipeline(spacy_model=model) as pipeline:\n",
    "    pipeline.submit_ner_job(text, target_entities)\n",
    "\n",
    "    for pattern, label in patterns:\n",
    "        pipeline.submit_regex_job(text, pattern, label)\n",
    "\n",
    "    for result in pipeline.results():\n",
    "        for match in result:\n",
    "            print(match)"
   ]
  },
  {
   "cell_type": "code",
   "execution_count": null,
   "id": "3981258c-d430-4232-8715-bab33d74adbe",
   "metadata": {},
   "outputs": [],
   "source": []
  }
 ],
 "metadata": {
  "kernelspec": {
   "display_name": "Python 3",
   "language": "python",
   "name": "python3"
  },
  "language_info": {
   "codemirror_mode": {
    "name": "ipython",
    "version": 3
   },
   "file_extension": ".py",
   "mimetype": "text/x-python",
   "name": "python",
   "nbconvert_exporter": "python",
   "pygments_lexer": "ipython3",
   "version": "3.9.7"
  }
 },
 "nbformat": 4,
 "nbformat_minor": 5
}
