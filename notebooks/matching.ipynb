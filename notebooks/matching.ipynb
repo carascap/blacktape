{
 "cells": [
  {
   "cell_type": "code",
   "execution_count": null,
   "id": "121dec3a-bb81-4519-9453-7a408bcb5461",
   "metadata": {},
   "outputs": [],
   "source": [
    "import logging\n",
    "from pathlib import Path\n",
    "\n",
    "import blacktape\n",
    "from blacktape.lib import match_entities_in_text, match_patterns_in_text, get_entities_for_spacy_model\n",
    "\n",
    "logger = logging.getLogger(__name__)"
   ]
  },
  {
   "cell_type": "code",
   "execution_count": null,
   "id": "e2b73c35-e1bb-4422-a02e-067a582e7d53",
   "metadata": {},
   "outputs": [],
   "source": [
    "blacktape.__version__"
   ]
  },
  {
   "cell_type": "markdown",
   "id": "28d5200e-361b-4361-93d6-08e17461e083",
   "metadata": {},
   "source": [
    "### spaCy Setup"
   ]
  },
  {
   "cell_type": "code",
   "execution_count": null,
   "id": "a7f1bc48-926d-416b-8993-677dc47b8af4",
   "metadata": {},
   "outputs": [],
   "source": [
    "!spacy-model install en_core_web_sm"
   ]
  },
  {
   "cell_type": "markdown",
   "id": "57fcd481-07a0-4bc8-85fe-3967d6790b97",
   "metadata": {},
   "source": [
    "### Test Data"
   ]
  },
  {
   "cell_type": "code",
   "execution_count": null,
   "id": "7313bb6b-c9fb-4210-8ecc-43d77de717bd",
   "metadata": {},
   "outputs": [],
   "source": [
    "test_file = Path('../tests/data/sample.txt')"
   ]
  },
  {
   "cell_type": "code",
   "execution_count": null,
   "id": "1eb6aadc-20df-4fb8-8bb5-9ab89a2ffb49",
   "metadata": {},
   "outputs": [],
   "source": [
    "text = test_file.read_text(encoding='UTF-8')\n",
    "# print(text)"
   ]
  },
  {
   "cell_type": "markdown",
   "id": "ae75b311-7b85-4a2e-b9d6-9e86933de550",
   "metadata": {},
   "source": [
    "### Entities"
   ]
  },
  {
   "cell_type": "code",
   "execution_count": null,
   "id": "cd1f89d9-6def-41c0-8cd1-deab7ffb5954",
   "metadata": {},
   "outputs": [],
   "source": [
    "# Entity types we're interested in\n",
    "target_entities = {'PERSON', 'ORG', 'DATE', 'FOOD'}"
   ]
  },
  {
   "cell_type": "code",
   "execution_count": null,
   "id": "92e23592-479e-4350-9c64-a38a81bcd745",
   "metadata": {},
   "outputs": [],
   "source": [
    "# spaCy model name\n",
    "model = 'en_core_web_sm'"
   ]
  },
  {
   "cell_type": "code",
   "execution_count": null,
   "id": "3970dbe8-9176-4e37-8748-463c8ca6e880",
   "metadata": {},
   "outputs": [],
   "source": [
    "# List known entity types for this model\n",
    "known_entities = get_entities_for_spacy_model(model)\n",
    "print(known_entities)"
   ]
  },
  {
   "cell_type": "code",
   "execution_count": null,
   "id": "759678d9-3065-469f-8b9d-dd1c0462b529",
   "metadata": {},
   "outputs": [],
   "source": [
    "# Validate our target entities\n",
    "for label in target_entities:\n",
    "    if label not in known_entities:\n",
    "        logger.warning(f\"Unknown entity type: {label}\")"
   ]
  },
  {
   "cell_type": "code",
   "execution_count": null,
   "id": "cd045166-2f44-43c1-948c-a878f973bcc1",
   "metadata": {},
   "outputs": [],
   "source": [
    "ents = match_entities_in_text(text, model, target_entities)"
   ]
  },
  {
   "cell_type": "code",
   "execution_count": null,
   "id": "fa8f084a-baab-4f50-b116-e7ec8278d996",
   "metadata": {},
   "outputs": [],
   "source": [
    "for ent in ents:\n",
    "    print(ent)"
   ]
  },
  {
   "cell_type": "markdown",
   "id": "ad57b90a-67c6-4d5a-894c-b3c47b8193da",
   "metadata": {},
   "source": [
    "### Regexes"
   ]
  },
  {
   "cell_type": "code",
   "execution_count": null,
   "id": "bf94e040-0251-4a19-9bb6-33dac5c7beec",
   "metadata": {},
   "outputs": [],
   "source": [
    "# E.g: numbers and capitalized words\n",
    "patterns = [\n",
    "    (r\"[0-9]+\", \"number\"),\n",
    "    (r\"\\b[A-Z][a-zA-Z]*\\b\", \"capitalized word\")\n",
    "]"
   ]
  },
  {
   "cell_type": "code",
   "execution_count": null,
   "id": "f9e94400-bcd8-4258-89c2-ada881a07ba2",
   "metadata": {},
   "outputs": [],
   "source": [
    "for res in match_patterns_in_text(text, patterns):\n",
    "    print(res)"
   ]
  },
  {
   "cell_type": "code",
   "execution_count": null,
   "id": "d1e57f96-300b-48d3-97b6-3e4d84cef038",
   "metadata": {},
   "outputs": [],
   "source": []
  }
 ],
 "metadata": {
  "kernelspec": {
   "display_name": "Python 3",
   "language": "python",
   "name": "python3"
  },
  "language_info": {
   "codemirror_mode": {
    "name": "ipython",
    "version": 3
   },
   "file_extension": ".py",
   "mimetype": "text/x-python",
   "name": "python",
   "nbconvert_exporter": "python",
   "pygments_lexer": "ipython3",
   "version": "3.9.7"
  }
 },
 "nbformat": 4,
 "nbformat_minor": 5
}
