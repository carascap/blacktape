{
 "cells": [
  {
   "cell_type": "code",
   "execution_count": null,
   "id": "168c1b09-7280-4c52-ad1c-f8a3c23c1955",
   "metadata": {},
   "outputs": [],
   "source": [
    "from pathlib import Path\n",
    "\n",
    "import spacy\n",
    "\n",
    "import blacktape\n",
    "from blacktape.lib import chunks"
   ]
  },
  {
   "cell_type": "code",
   "execution_count": null,
   "id": "42c73f23-92dd-46ef-af54-6efa794a3720",
   "metadata": {},
   "outputs": [],
   "source": [
    "blacktape.__version__"
   ]
  },
  {
   "cell_type": "markdown",
   "id": "edca468d-a895-4010-8bf0-af25f335bdba",
   "metadata": {},
   "source": [
    "### Test Data"
   ]
  },
  {
   "cell_type": "code",
   "execution_count": null,
   "id": "9d36df6f-ebbe-48cb-a182-696cb4b77db0",
   "metadata": {},
   "outputs": [],
   "source": [
    "test_file = Path('../tests/data/Crime_and_Punishment.txt')"
   ]
  },
  {
   "cell_type": "code",
   "execution_count": null,
   "id": "8d824ab6-34e8-4b6f-80d8-6e00e2a27103",
   "metadata": {},
   "outputs": [],
   "source": [
    "# Pick a language model to detect sentences\n",
    "nlp = spacy.load(\"en_core_web_sm\", disable=[\"parser\"])\n",
    "nlp.enable_pipe(\"senter\")"
   ]
  },
  {
   "cell_type": "code",
   "execution_count": null,
   "id": "3b70d723-cae4-4cb8-a59e-12867a47d107",
   "metadata": {},
   "outputs": [],
   "source": [
    "file_read_options = {\n",
    "    'nlp': nlp,\n",
    "    'max_chunk_size': 1000,  # Value in characters (not bytes) to stay below spaCy's max doc size of 1_000_000 characters by default\n",
    "    'encoding': \"UTF-8\",\n",
    "    'errors': \"ignore\",\n",
    "    'newline': '',  # To preserve line endings\n",
    "}"
   ]
  },
  {
   "cell_type": "markdown",
   "id": "3794e08c-44d1-47f1-b16a-68c3a8d384ea",
   "metadata": {},
   "source": [
    "### Split text file into chunks without breaking sentences"
   ]
  },
  {
   "cell_type": "code",
   "execution_count": null,
   "id": "318d7f1f-f892-4182-822e-66b82820361c",
   "metadata": {},
   "outputs": [],
   "source": [
    "for chunk in chunks(test_file, **file_read_options):\n",
    "    # Process chunk\n",
    "    print(chunk)\n",
    "    print(\"=================\")"
   ]
  }
 ],
 "metadata": {
  "kernelspec": {
   "display_name": "Python 3",
   "language": "python",
   "name": "python3"
  },
  "language_info": {
   "codemirror_mode": {
    "name": "ipython",
    "version": 3
   },
   "file_extension": ".py",
   "mimetype": "text/x-python",
   "name": "python",
   "nbconvert_exporter": "python",
   "pygments_lexer": "ipython3",
   "version": "3.9.7"
  }
 },
 "nbformat": 4,
 "nbformat_minor": 5
}
